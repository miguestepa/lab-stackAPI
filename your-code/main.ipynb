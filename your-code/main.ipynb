{
 "cells": [
  {
   "cell_type": "markdown",
   "metadata": {},
   "source": [
    "# StackAPI\n",
    "\n",
    "#### Import the necessary libraries here:"
   ]
  },
  {
   "cell_type": "code",
   "execution_count": 10,
   "metadata": {},
   "outputs": [
    {
     "name": "stdout",
     "output_type": "stream",
     "text": [
      "1569880800.0\n"
     ]
    },
    {
     "data": {
      "text/plain": [
       "<bound method DataFrame.items of      backoff  has_more  page  quota_max  quota_remaining  total  \\\n",
       "0          0      True     5        300              300      0   \n",
       "1          0      True     5        300              300      0   \n",
       "2          0      True     5        300              300      0   \n",
       "3          0      True     5        300              300      0   \n",
       "4          0      True     5        300              300      0   \n",
       "..       ...       ...   ...        ...              ...    ...   \n",
       "495        0      True     5        300              300      0   \n",
       "496        0      True     5        300              300      0   \n",
       "497        0      True     5        300              300      0   \n",
       "498        0      True     5        300              300      0   \n",
       "499        0      True     5        300              300      0   \n",
       "\n",
       "                                                 items  \n",
       "0    {'owner': {'reputation': 3452, 'user_id': 5122...  \n",
       "1    {'owner': {'reputation': 1, 'user_id': 1306151...  \n",
       "2    {'owner': {'reputation': 31641, 'user_id': 337...  \n",
       "3    {'owner': {'reputation': 329, 'user_id': 50298...  \n",
       "4    {'owner': {'reputation': 73, 'user_id': 944107...  \n",
       "..                                                 ...  \n",
       "495  {'owner': {'reputation': 498, 'user_id': 61805...  \n",
       "496  {'owner': {'reputation': 792, 'user_id': 29694...  \n",
       "497  {'owner': {'reputation': 318065, 'user_id': 20...  \n",
       "498  {'owner': {'reputation': 57, 'user_id': 155294...  \n",
       "499  {'owner': {'reputation': 912, 'user_id': 53145...  \n",
       "\n",
       "[500 rows x 7 columns]>"
      ]
     },
     "execution_count": 10,
     "metadata": {},
     "output_type": "execute_result"
    }
   ],
   "source": [
    "# your code here\n",
    "import time\n",
    "print(time.mktime(time.strptime('01/10/2019', \"%d/%m/%Y\")))\n",
    "\n",
    "import requests\n",
    "import json\n",
    "import pandas as pd\n",
    "\n",
    "from stackapi import StackAPI\n",
    "SITE = StackAPI('stackoverflow')\n",
    "comments = SITE.fetch('comments')\n",
    "comments\n",
    "#response = requests.get('http://TYPOopen-notify.org/Open-Notify-API/People-In-Space/')\n",
    "\n",
    "df = pd.DataFrame(comments)\n",
    "\n",
    "df.items\n",
    "\n"
   ]
  },
  {
   "cell_type": "markdown",
   "metadata": {},
   "source": [
    "#### Question 1: Find the questions and answers of last month."
   ]
  },
  {
   "cell_type": "code",
   "execution_count": null,
   "metadata": {},
   "outputs": [],
   "source": [
    "# your code here"
   ]
  },
  {
   "cell_type": "markdown",
   "metadata": {},
   "source": [
    "#### Question 2: Find the most voted question today with at least a score of 5 and tagged with 'python'. "
   ]
  },
  {
   "cell_type": "code",
   "execution_count": null,
   "metadata": {},
   "outputs": [],
   "source": [
    "# your code here"
   ]
  },
  {
   "cell_type": "markdown",
   "metadata": {},
   "source": [
    "#### Question 3: Find the answers with id 6784 and 6473."
   ]
  },
  {
   "cell_type": "code",
   "execution_count": null,
   "metadata": {},
   "outputs": [],
   "source": [
    "# your code here"
   ]
  }
 ],
 "metadata": {
  "kernelspec": {
   "display_name": "Python 3",
   "language": "python",
   "name": "python3"
  },
  "language_info": {
   "codemirror_mode": {
    "name": "ipython",
    "version": 3
   },
   "file_extension": ".py",
   "mimetype": "text/x-python",
   "name": "python",
   "nbconvert_exporter": "python",
   "pygments_lexer": "ipython3",
   "version": "3.8.2"
  }
 },
 "nbformat": 4,
 "nbformat_minor": 2
}
